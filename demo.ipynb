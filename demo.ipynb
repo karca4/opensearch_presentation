{
 "cells": [
  {
   "cell_type": "markdown",
   "id": "66f753b6-a7b3-44cc-b147-9592cb34746f",
   "metadata": {},
   "source": [
    "# OpenSearch"
   ]
  },
  {
   "cell_type": "markdown",
   "id": "6bfd64f6-d947-4e42-b06d-49d6e42333af",
   "metadata": {},
   "source": [
    "A brief tutorial of the basic usage of OpenSearch through some example. \n",
    "\n",
    "Index:\n",
    "- OpenSearch API\n",
    "- Mapping\n",
    "- Operations\n",
    "- Clients\n",
    "\n"
   ]
  },
  {
   "cell_type": "markdown",
   "id": "f16469ed-9363-49a7-99eb-bed6423ae486",
   "metadata": {},
   "source": [
    "## OpenSearch API"
   ]
  },
  {
   "cell_type": "markdown",
   "id": "be6461c4-f6ca-4973-9eb0-f6714241757d",
   "metadata": {},
   "source": [
    "OpenSearch exposes a list of APIs in order check the state of the cluster and perform operations. \n",
    "\n",
    "In this section we try some of this APIs to perform the CRUD operations."
   ]
  },
  {
   "cell_type": "markdown",
   "id": "57afd9b6-ea9e-4448-af99-60c5185cbc62",
   "metadata": {
    "jp-MarkdownHeadingCollapsed": true
   },
   "source": [
    "### Check cluster health"
   ]
  },
  {
   "cell_type": "markdown",
   "id": "a1979f9a-f04b-4d44-93c0-52b05fcb0664",
   "metadata": {},
   "source": [
    "The ***/health*** endpoint provides a summary of the OpenSearch cluster and its status.\n",
    "It possible to retrieve this information through:\n",
    "```sh\n",
    "curl -X GET \"http://localhost:9200/_cluster/health\" -ku admin:<custom-admin-password>\n",
    "```"
   ]
  },
  {
   "cell_type": "code",
   "execution_count": 52,
   "id": "05bba523-179d-49a7-ac49-5509a485b6f6",
   "metadata": {},
   "outputs": [
    {
     "name": "stdout",
     "output_type": "stream",
     "text": [
      "{\n",
      "    \"cluster_name\": \"opensearch-cluster\",\n",
      "    \"status\": \"green\",\n",
      "    \"timed_out\": false,\n",
      "    \"number_of_nodes\": 2,\n",
      "    \"number_of_data_nodes\": 2,\n",
      "    \"discovered_master\": true,\n",
      "    \"discovered_cluster_manager\": true,\n",
      "    \"active_primary_shards\": 12,\n",
      "    \"active_shards\": 24,\n",
      "    \"relocating_shards\": 0,\n",
      "    \"initializing_shards\": 0,\n",
      "    \"unassigned_shards\": 0,\n",
      "    \"delayed_unassigned_shards\": 0,\n",
      "    \"number_of_pending_tasks\": 0,\n",
      "    \"number_of_in_flight_fetch\": 0,\n",
      "    \"task_max_waiting_in_queue_millis\": 0,\n",
      "    \"active_shards_percent_as_number\": 100.0\n",
      "}\n"
     ]
    }
   ],
   "source": [
    "import json\n",
    "import requests\n",
    "from requests.auth import HTTPBasicAuth\n",
    "\n",
    "r = requests.get(\"https://localhost:9200/_cluster/health\", verify=False, auth=HTTPBasicAuth(\"admin\", \"admin\"))\n",
    "print(json.dumps(r.json(), indent=4))"
   ]
  },
  {
   "cell_type": "markdown",
   "id": "5aed9d40-5e9a-4b92-8f4d-00287c1f8ff9",
   "metadata": {},
   "source": [
    "The ***/health*** endpoint provide information about:\n",
    "- cluster configuration: cluster name, number of nodes, etc\n",
    "- status: green/yellow/red\n",
    "\n",
    "More information [here](https://opensearch.org/docs/1.1/opensearch/rest-api/cluster-health/)"
   ]
  },
  {
   "cell_type": "markdown",
   "id": "9e2d86b9-f711-4da2-8cf1-e7a9da685071",
   "metadata": {
    "jp-MarkdownHeadingCollapsed": true
   },
   "source": [
    "### Indexing documents"
   ]
  },
  {
   "cell_type": "markdown",
   "id": "4f153f34-4568-4a10-8278-f019400f8368",
   "metadata": {},
   "source": [
    "It is possible adding new documents, or indexing new documents, through: *PUT /\\<index-name\\>/_doc/\\<document-id\\>*"
   ]
  },
  {
   "cell_type": "code",
   "execution_count": 54,
   "id": "599ebeb4-e39c-444a-b101-d4ef70817f2d",
   "metadata": {},
   "outputs": [
    {
     "name": "stdout",
     "output_type": "stream",
     "text": [
      "{\n",
      "    \"error\": {\n",
      "        \"root_cause\": [\n",
      "            {\n",
      "                \"type\": \"mapper_parsing_exception\",\n",
      "                \"reason\": \"failed to parse field [grad_year] of type [long] in document with id '2'. Preview of field's value: 'ciao'\"\n",
      "            }\n",
      "        ],\n",
      "        \"type\": \"mapper_parsing_exception\",\n",
      "        \"reason\": \"failed to parse field [grad_year] of type [long] in document with id '2'. Preview of field's value: 'ciao'\",\n",
      "        \"caused_by\": {\n",
      "            \"type\": \"illegal_argument_exception\",\n",
      "            \"reason\": \"For input string: \\\"ciao\\\"\"\n",
      "        }\n",
      "    },\n",
      "    \"status\": 400\n",
      "}\n"
     ]
    }
   ],
   "source": [
    "import json\n",
    "import requests\n",
    "from requests.auth import HTTPBasicAuth\n",
    "\n",
    "r = requests.put(\"https://localhost:9200/students/_doc/2\", verify=False, auth=HTTPBasicAuth(\"admin\", \"admin\"),\n",
    "                 json={\n",
    "                     \"name\": \"John Doe\",\n",
    "                     \"gpa\": 3.89,\n",
    "                     \"grad_year\": 2024\n",
    "                 },\n",
    "                 headers={\"Content-type\": \"application/json\"}\n",
    "                )\n",
    "\n",
    "print(json.dumps(r.json(), indent=4))"
   ]
  },
  {
   "cell_type": "markdown",
   "id": "0d88b0f5-b81f-4c34-b534-d892d060e4d1",
   "metadata": {},
   "source": [
    "This snippet has added a new document in an index called ***students***, without a initial index declaration!\n",
    "\n",
    "**NO** index declaration\n",
    "\n",
    "**NO** mapping definition\n",
    "\n",
    "**WHY IT WORKS?**\n",
    "\n",
    "Once you send the preceding request, OpenSearch creates an index called students and stores the ingested document in the index.\n",
    "\n",
    "More inforiromation [here](https://opensearch.org/docs/latest/im-plugin/#update-data)"
   ]
  },
  {
   "cell_type": "markdown",
   "id": "d9d83a23-877f-4464-b2ee-16fc2b9717d2",
   "metadata": {
    "jp-MarkdownHeadingCollapsed": true
   },
   "source": [
    "### Searching for document"
   ]
  },
  {
   "cell_type": "code",
   "execution_count": 57,
   "id": "a7f77f30-c7d8-4b1a-b257-87995f7ed5e1",
   "metadata": {},
   "outputs": [
    {
     "name": "stdout",
     "output_type": "stream",
     "text": [
      "{\n",
      "    \"took\": 4,\n",
      "    \"timed_out\": false,\n",
      "    \"_shards\": {\n",
      "        \"total\": 1,\n",
      "        \"successful\": 1,\n",
      "        \"skipped\": 0,\n",
      "        \"failed\": 0\n",
      "    },\n",
      "    \"hits\": {\n",
      "        \"total\": {\n",
      "            \"value\": 1,\n",
      "            \"relation\": \"eq\"\n",
      "        },\n",
      "        \"max_score\": 1.0,\n",
      "        \"hits\": [\n",
      "            {\n",
      "                \"_index\": \"students\",\n",
      "                \"_id\": \"1\",\n",
      "                \"_score\": 1.0,\n",
      "                \"_source\": {\n",
      "                    \"name\": \"John Doe2\",\n",
      "                    \"gpa\": 3.89,\n",
      "                    \"grad_year\": 2022\n",
      "                }\n",
      "            }\n",
      "        ]\n",
      "    }\n",
      "}\n"
     ]
    }
   ],
   "source": [
    "import json\n",
    "import requests\n",
    "from requests.auth import HTTPBasicAuth\n",
    "\n",
    "r = requests.get(\"https://localhost:9200/students/_search\", verify=False, auth=HTTPBasicAuth(\"admin\", \"admin\"),\n",
    "                 data=json.dumps({\n",
    "                     \"query\": {\n",
    "                         \"match_all\": {}\n",
    "                     }\n",
    "                 }),\n",
    "                 headers={\"Content-type\": \"application/json\"}\n",
    "                )\n",
    "\n",
    "print(json.dumps(r.json(), indent=4))"
   ]
  },
  {
   "cell_type": "markdown",
   "id": "ef2dcedf-75fe-4da3-a4bc-112abd71f2e9",
   "metadata": {
    "jp-MarkdownHeadingCollapsed": true
   },
   "source": [
    "### Updating documents"
   ]
  },
  {
   "cell_type": "code",
   "execution_count": 56,
   "id": "3715c7e8-d101-41ef-9be8-193ab75269c4",
   "metadata": {},
   "outputs": [
    {
     "name": "stdout",
     "output_type": "stream",
     "text": [
      "{\n",
      "    \"_index\": \"students\",\n",
      "    \"_id\": \"1\",\n",
      "    \"_version\": 2,\n",
      "    \"result\": \"updated\",\n",
      "    \"_shards\": {\n",
      "        \"total\": 2,\n",
      "        \"successful\": 2,\n",
      "        \"failed\": 0\n",
      "    },\n",
      "    \"_seq_no\": 1,\n",
      "    \"_primary_term\": 1\n",
      "}\n"
     ]
    }
   ],
   "source": [
    "import json\n",
    "import requests\n",
    "from requests.auth import HTTPBasicAuth\n",
    "\n",
    "r = requests.post(\"https://localhost:9200/students/_update/1\", verify=False, auth=HTTPBasicAuth(\"admin\", \"admin\"),\n",
    "                  json={\n",
    "                      \"doc\": {\n",
    "                          \"name\": \"John Doe2\",\n",
    "                          \"gpa\": 3.89,\n",
    "                          \"grad_year\": 2022\n",
    "                      }\n",
    "                  },\n",
    "                  headers={\"Content-type\": \"application/json\"}\n",
    "                 )\n",
    "\n",
    "print(json.dumps(r.json(), indent=4))"
   ]
  },
  {
   "cell_type": "markdown",
   "id": "866929e9-69b4-4457-b274-0b43eea88493",
   "metadata": {},
   "source": [
    "This operation update the document, if it exists. If no changes are detected from the latest version il will not create a new version of the document. It is also possible use the ***upsert*** operation\n",
    "\n",
    "More information [here](https://opensearch.org/docs/latest/api-reference/document-apis/update-document/)"
   ]
  },
  {
   "cell_type": "markdown",
   "id": "11ea41f5-85df-4b53-b95b-09f72e5fe433",
   "metadata": {
    "jp-MarkdownHeadingCollapsed": true
   },
   "source": [
    "### Deleting a document"
   ]
  },
  {
   "cell_type": "code",
   "execution_count": 58,
   "id": "adb5f33c-5812-40b4-a95d-c76f6af6ad16",
   "metadata": {},
   "outputs": [
    {
     "name": "stdout",
     "output_type": "stream",
     "text": [
      "{\n",
      "    \"_index\": \"students\",\n",
      "    \"_id\": \"1\",\n",
      "    \"_version\": 3,\n",
      "    \"result\": \"deleted\",\n",
      "    \"_shards\": {\n",
      "        \"total\": 2,\n",
      "        \"successful\": 2,\n",
      "        \"failed\": 0\n",
      "    },\n",
      "    \"_seq_no\": 2,\n",
      "    \"_primary_term\": 1\n",
      "}\n"
     ]
    }
   ],
   "source": [
    "import json\n",
    "import requests\n",
    "from requests.auth import HTTPBasicAuth\n",
    "\n",
    "r = requests.delete(\"https://localhost:9200/students/_doc/1\", verify=False, auth=HTTPBasicAuth(\"admin\", \"admin\"))\n",
    "\n",
    "print(json.dumps(r.json(), indent=4))"
   ]
  },
  {
   "cell_type": "markdown",
   "id": "cf9bb98c-4fd2-427c-98ce-9e7359af59ef",
   "metadata": {},
   "source": [
    "## Mapping"
   ]
  },
  {
   "cell_type": "markdown",
   "id": "ba118620-4cae-44b7-b06f-2165362df1cf",
   "metadata": {},
   "source": [
    "Mapping tell OpenSearch how to store and index the documents and their fields. It is important specify the data type for each field to make storage and querying more efficient. Using explicit mapping is recommended.\n",
    "\n",
    "In this section we explain the dynamic mapping, used for the previous example, and the explicit mapping, recommended."
   ]
  },
  {
   "cell_type": "markdown",
   "id": "51be365d-399f-47a7-b57c-0020fff69be3",
   "metadata": {},
   "source": [
    "### Dynamic Mapping ###"
   ]
  },
  {
   "cell_type": "markdown",
   "id": "b0255598-bf4c-4d3c-9287-22635d0ec97e",
   "metadata": {},
   "source": [
    "OpenSearch infers automatically the field types from the JSON types submitted in the document. This operation is called ***dynamic mapping***. It is possible to retrieve the mapping information of a index through:"
   ]
  },
  {
   "cell_type": "code",
   "execution_count": 59,
   "id": "61638d66-f92c-43ec-8b09-aaee1a9c28eb",
   "metadata": {},
   "outputs": [
    {
     "name": "stdout",
     "output_type": "stream",
     "text": [
      "{\n",
      "    \"students\": {\n",
      "        \"mappings\": {\n",
      "            \"properties\": {\n",
      "                \"gpa\": {\n",
      "                    \"type\": \"float\"\n",
      "                },\n",
      "                \"grad_year\": {\n",
      "                    \"type\": \"long\"\n",
      "                },\n",
      "                \"name\": {\n",
      "                    \"type\": \"text\",\n",
      "                    \"fields\": {\n",
      "                        \"keyword\": {\n",
      "                            \"type\": \"keyword\",\n",
      "                            \"ignore_above\": 256\n",
      "                        }\n",
      "                    }\n",
      "                }\n",
      "            }\n",
      "        }\n",
      "    }\n",
      "}\n"
     ]
    }
   ],
   "source": [
    "import json\n",
    "import requests\n",
    "from requests.auth import HTTPBasicAuth\n",
    "\n",
    "r = requests.get(\"https://localhost:9200/students/_mapping\", verify=False, auth=HTTPBasicAuth(\"admin\", \"admin\"))\n",
    "print(json.dumps(r.json(), indent=4))"
   ]
  },
  {
   "cell_type": "markdown",
   "id": "ad5aa147-1a18-423f-8217-a95a8cda445b",
   "metadata": {},
   "source": [
    "More information [here](https://opensearch.org/docs/latest/field-types/#dynamic-mapping)"
   ]
  },
  {
   "cell_type": "markdown",
   "id": "8a0c6916-9929-470a-b9bc-382f65d3a2f0",
   "metadata": {},
   "source": [
    "### Explicit mapping"
   ]
  },
  {
   "cell_type": "markdown",
   "id": "65cc11d8-eb51-4541-9fea-452312a7581d",
   "metadata": {},
   "source": [
    "Explicit mapping is easy to specify when the index is created."
   ]
  },
  {
   "cell_type": "code",
   "execution_count": 60,
   "id": "01f7416a-3bed-4bc0-833d-bc9c916a42ec",
   "metadata": {},
   "outputs": [
    {
     "name": "stdout",
     "output_type": "stream",
     "text": [
      "{\n",
      "    \"acknowledged\": true\n",
      "}\n",
      "{\n",
      "    \"acknowledged\": true,\n",
      "    \"shards_acknowledged\": true,\n",
      "    \"index\": \"students\"\n",
      "}\n"
     ]
    }
   ],
   "source": [
    "import json\n",
    "import requests\n",
    "from requests.auth import HTTPBasicAuth\n",
    "\n",
    "# delete the index automatically created and dinamically mapped in the previously example\n",
    "r = requests.delete(\"https://localhost:9200/students\", verify=False, auth=HTTPBasicAuth(\"admin\", \"admin\"))\n",
    "print(json.dumps(r.json(), indent=4))\n",
    "\n",
    "# index creation with explicit mapping\n",
    "r = requests.put(\"https://localhost:9200/students\", verify=False, auth=HTTPBasicAuth(\"admin\", \"admin\"), \n",
    "                json={\n",
    "                    \"settings\": {\n",
    "                        \"index.number_of_shards\": 1\n",
    "                    },\n",
    "                    \"mappings\": {\n",
    "                        \"properties\": {\n",
    "                            \"name\": {\n",
    "                                \"type\": \"text\"\n",
    "                            },\n",
    "                            \"surname\": {\n",
    "                                \"type\": \"text\"\n",
    "                            },\n",
    "                            \"payload\": {\n",
    "                                \"type\": \"object\"\n",
    "                            }\n",
    "                        }\n",
    "                    }\n",
    "                })\n",
    "print(json.dumps(r.json(), indent=4))"
   ]
  },
  {
   "cell_type": "markdown",
   "id": "2b0b755d-6e1e-4ac3-9091-75bd696bee77",
   "metadata": {},
   "source": [
    "More information [here](https://opensearch.org/docs/latest/field-types/#explicit-mapping)"
   ]
  },
  {
   "cell_type": "markdown",
   "id": "98fe7cda-8789-411b-9131-d489fe7514ed",
   "metadata": {},
   "source": [
    "## Operations"
   ]
  },
  {
   "cell_type": "markdown",
   "id": "d781f80b-e1b3-4405-9913-c4065e700dff",
   "metadata": {},
   "source": [
    "In this section are executed some interesting operations. \n",
    "\n",
    "In the following snippet of code is defined an initial dataset in which we perform some of these operations."
   ]
  },
  {
   "cell_type": "code",
   "execution_count": 61,
   "id": "674ad001-6d52-45b7-b01d-bb3caba329dc",
   "metadata": {},
   "outputs": [],
   "source": [
    "import json\n",
    "import random\n",
    "import requests\n",
    "from requests.auth import HTTPBasicAuth\n",
    "\n",
    "team = [{\n",
    "    \"name\": f\"worker{i}\",\n",
    "    \"age\": random.randint(18, 50),\n",
    "    \"project\": random.choice([\"intranet\", \"intrateam\", \"devops\", \"development\", \"machine learning\"])\n",
    "} for i in range(20)]\n",
    "\n",
    "# load all skillbillers\n",
    "for member in team:\n",
    "    r = requests.post(\"https://localhost:9200/skillbill/_doc/\", verify=False, auth=HTTPBasicAuth(\"admin\", \"admin\"),\n",
    "                     json=member,\n",
    "                     headers={\"Content-type\": \"application/json\"}\n",
    "                    )"
   ]
  },
  {
   "cell_type": "code",
   "execution_count": 62,
   "id": "b77a83e2-4e09-4ee3-a943-197ddc69419c",
   "metadata": {},
   "outputs": [
    {
     "name": "stdout",
     "output_type": "stream",
     "text": [
      "{\n",
      "    \"took\": 6,\n",
      "    \"timed_out\": false,\n",
      "    \"_shards\": {\n",
      "        \"total\": 1,\n",
      "        \"successful\": 1,\n",
      "        \"skipped\": 0,\n",
      "        \"failed\": 0\n",
      "    },\n",
      "    \"hits\": {\n",
      "        \"total\": {\n",
      "            \"value\": 20,\n",
      "            \"relation\": \"eq\"\n",
      "        },\n",
      "        \"max_score\": 1.0,\n",
      "        \"hits\": [\n",
      "            {\n",
      "                \"_index\": \"skillbill\",\n",
      "                \"_id\": \"y7cSAJIB9tihzKslYgzp\",\n",
      "                \"_score\": 1.0,\n",
      "                \"_source\": {\n",
      "                    \"name\": \"worker0\",\n",
      "                    \"age\": 41,\n",
      "                    \"project\": \"intranet\"\n",
      "                }\n",
      "            },\n",
      "            {\n",
      "                \"_index\": \"skillbill\",\n",
      "                \"_id\": \"zLcSAJIB9tihzKslYwxw\",\n",
      "                \"_score\": 1.0,\n",
      "                \"_source\": {\n",
      "                    \"name\": \"worker1\",\n",
      "                    \"age\": 42,\n",
      "                    \"project\": \"intranet\"\n",
      "                }\n",
      "            },\n",
      "            {\n",
      "                \"_index\": \"skillbill\",\n",
      "                \"_id\": \"zbcSAJIB9tihzKslYwyF\",\n",
      "                \"_score\": 1.0,\n",
      "                \"_source\": {\n",
      "                    \"name\": \"worker2\",\n",
      "                    \"age\": 41,\n",
      "                    \"project\": \"development\"\n",
      "                }\n",
      "            },\n",
      "            {\n",
      "                \"_index\": \"skillbill\",\n",
      "                \"_id\": \"zrcSAJIB9tihzKslYwyY\",\n",
      "                \"_score\": 1.0,\n",
      "                \"_source\": {\n",
      "                    \"name\": \"worker3\",\n",
      "                    \"age\": 50,\n",
      "                    \"project\": \"development\"\n",
      "                }\n",
      "            },\n",
      "            {\n",
      "                \"_index\": \"skillbill\",\n",
      "                \"_id\": \"z7cSAJIB9tihzKslYwyo\",\n",
      "                \"_score\": 1.0,\n",
      "                \"_source\": {\n",
      "                    \"name\": \"worker4\",\n",
      "                    \"age\": 49,\n",
      "                    \"project\": \"development\"\n",
      "                }\n",
      "            },\n",
      "            {\n",
      "                \"_index\": \"skillbill\",\n",
      "                \"_id\": \"0LcSAJIB9tihzKslYwy2\",\n",
      "                \"_score\": 1.0,\n",
      "                \"_source\": {\n",
      "                    \"name\": \"worker5\",\n",
      "                    \"age\": 40,\n",
      "                    \"project\": \"development\"\n",
      "                }\n",
      "            },\n",
      "            {\n",
      "                \"_index\": \"skillbill\",\n",
      "                \"_id\": \"0bcSAJIB9tihzKslYwzG\",\n",
      "                \"_score\": 1.0,\n",
      "                \"_source\": {\n",
      "                    \"name\": \"worker6\",\n",
      "                    \"age\": 37,\n",
      "                    \"project\": \"devops\"\n",
      "                }\n",
      "            },\n",
      "            {\n",
      "                \"_index\": \"skillbill\",\n",
      "                \"_id\": \"0rcSAJIB9tihzKslYwzZ\",\n",
      "                \"_score\": 1.0,\n",
      "                \"_source\": {\n",
      "                    \"name\": \"worker7\",\n",
      "                    \"age\": 40,\n",
      "                    \"project\": \"development\"\n",
      "                }\n",
      "            },\n",
      "            {\n",
      "                \"_index\": \"skillbill\",\n",
      "                \"_id\": \"07cSAJIB9tihzKslYwzr\",\n",
      "                \"_score\": 1.0,\n",
      "                \"_source\": {\n",
      "                    \"name\": \"worker8\",\n",
      "                    \"age\": 28,\n",
      "                    \"project\": \"intranet\"\n",
      "                }\n",
      "            },\n",
      "            {\n",
      "                \"_index\": \"skillbill\",\n",
      "                \"_id\": \"1LcSAJIB9tihzKslYwz-\",\n",
      "                \"_score\": 1.0,\n",
      "                \"_source\": {\n",
      "                    \"name\": \"worker9\",\n",
      "                    \"age\": 32,\n",
      "                    \"project\": \"development\"\n",
      "                }\n",
      "            },\n",
      "            {\n",
      "                \"_index\": \"skillbill\",\n",
      "                \"_id\": \"1bcSAJIB9tihzKslZAwQ\",\n",
      "                \"_score\": 1.0,\n",
      "                \"_source\": {\n",
      "                    \"name\": \"worker10\",\n",
      "                    \"age\": 40,\n",
      "                    \"project\": \"machine learning\"\n",
      "                }\n",
      "            },\n",
      "            {\n",
      "                \"_index\": \"skillbill\",\n",
      "                \"_id\": \"1rcSAJIB9tihzKslZAwh\",\n",
      "                \"_score\": 1.0,\n",
      "                \"_source\": {\n",
      "                    \"name\": \"worker11\",\n",
      "                    \"age\": 38,\n",
      "                    \"project\": \"intranet\"\n",
      "                }\n",
      "            },\n",
      "            {\n",
      "                \"_index\": \"skillbill\",\n",
      "                \"_id\": \"17cSAJIB9tihzKslZAwz\",\n",
      "                \"_score\": 1.0,\n",
      "                \"_source\": {\n",
      "                    \"name\": \"worker12\",\n",
      "                    \"age\": 30,\n",
      "                    \"project\": \"intrateam\"\n",
      "                }\n",
      "            },\n",
      "            {\n",
      "                \"_index\": \"skillbill\",\n",
      "                \"_id\": \"2LcSAJIB9tihzKslZAxJ\",\n",
      "                \"_score\": 1.0,\n",
      "                \"_source\": {\n",
      "                    \"name\": \"worker13\",\n",
      "                    \"age\": 18,\n",
      "                    \"project\": \"devops\"\n",
      "                }\n",
      "            },\n",
      "            {\n",
      "                \"_index\": \"skillbill\",\n",
      "                \"_id\": \"2bcSAJIB9tihzKslZAxd\",\n",
      "                \"_score\": 1.0,\n",
      "                \"_source\": {\n",
      "                    \"name\": \"worker14\",\n",
      "                    \"age\": 31,\n",
      "                    \"project\": \"devops\"\n",
      "                }\n",
      "            },\n",
      "            {\n",
      "                \"_index\": \"skillbill\",\n",
      "                \"_id\": \"2rcSAJIB9tihzKslZAxt\",\n",
      "                \"_score\": 1.0,\n",
      "                \"_source\": {\n",
      "                    \"name\": \"worker15\",\n",
      "                    \"age\": 35,\n",
      "                    \"project\": \"intranet\"\n",
      "                }\n",
      "            },\n",
      "            {\n",
      "                \"_index\": \"skillbill\",\n",
      "                \"_id\": \"27cSAJIB9tihzKslZAx9\",\n",
      "                \"_score\": 1.0,\n",
      "                \"_source\": {\n",
      "                    \"name\": \"worker16\",\n",
      "                    \"age\": 20,\n",
      "                    \"project\": \"intranet\"\n",
      "                }\n",
      "            },\n",
      "            {\n",
      "                \"_index\": \"skillbill\",\n",
      "                \"_id\": \"3LcSAJIB9tihzKslZAyO\",\n",
      "                \"_score\": 1.0,\n",
      "                \"_source\": {\n",
      "                    \"name\": \"worker17\",\n",
      "                    \"age\": 26,\n",
      "                    \"project\": \"development\"\n",
      "                }\n",
      "            },\n",
      "            {\n",
      "                \"_index\": \"skillbill\",\n",
      "                \"_id\": \"3bcSAJIB9tihzKslZAyk\",\n",
      "                \"_score\": 1.0,\n",
      "                \"_source\": {\n",
      "                    \"name\": \"worker18\",\n",
      "                    \"age\": 25,\n",
      "                    \"project\": \"machine learning\"\n",
      "                }\n",
      "            },\n",
      "            {\n",
      "                \"_index\": \"skillbill\",\n",
      "                \"_id\": \"3rcSAJIB9tihzKslZAy8\",\n",
      "                \"_score\": 1.0,\n",
      "                \"_source\": {\n",
      "                    \"name\": \"worker19\",\n",
      "                    \"age\": 27,\n",
      "                    \"project\": \"devops\"\n",
      "                }\n",
      "            }\n",
      "        ]\n",
      "    }\n",
      "}\n"
     ]
    }
   ],
   "source": [
    "import json\n",
    "import requests\n",
    "from requests.auth import HTTPBasicAuth\n",
    "\n",
    "r = requests.get(\"https://localhost:9200/skillbill/_search\", verify=False, auth=HTTPBasicAuth(\"admin\", \"admin\"),\n",
    "                 data=json.dumps({\n",
    "                     \"size\": 100,\n",
    "                     \"query\": {\n",
    "                         \"match_all\": {}\n",
    "                     }\n",
    "                 }),\n",
    "                 headers={\"Content-type\": \"application/json\"}\n",
    "                )\n",
    "\n",
    "print(json.dumps(r.json(), indent=4))"
   ]
  },
  {
   "cell_type": "markdown",
   "id": "0e50fdb3-fee7-404e-9355-c5ede3b2ccdc",
   "metadata": {
    "jp-MarkdownHeadingCollapsed": true
   },
   "source": [
    "### Query DSL"
   ]
  },
  {
   "cell_type": "markdown",
   "id": "b0625e6c-6900-4b8c-aec9-8526a5ab8f53",
   "metadata": {},
   "source": [
    "The domain-specific language ***DSL*** is a flexible language with a JSON interface. This language is used to query OpenSearch.\n",
    "\n",
    "A query consists of many query clauses that can be combined to produce complex queries."
   ]
  },
  {
   "cell_type": "code",
   "execution_count": 66,
   "id": "5f3a7a80-f30d-474c-acca-93084c8b5253",
   "metadata": {},
   "outputs": [
    {
     "name": "stdout",
     "output_type": "stream",
     "text": [
      "{\n",
      "    \"took\": 4,\n",
      "    \"timed_out\": false,\n",
      "    \"_shards\": {\n",
      "        \"total\": 1,\n",
      "        \"successful\": 1,\n",
      "        \"skipped\": 0,\n",
      "        \"failed\": 0\n",
      "    },\n",
      "    \"hits\": {\n",
      "        \"total\": {\n",
      "            \"value\": 2,\n",
      "            \"relation\": \"eq\"\n",
      "        },\n",
      "        \"max_score\": 2.5999472,\n",
      "        \"hits\": [\n",
      "            {\n",
      "                \"_index\": \"skillbill\",\n",
      "                \"_id\": \"2LcSAJIB9tihzKslZAxJ\",\n",
      "                \"_score\": 2.5999472,\n",
      "                \"_source\": {\n",
      "                    \"name\": \"worker13\",\n",
      "                    \"age\": 18,\n",
      "                    \"project\": \"devops\"\n",
      "                }\n",
      "            },\n",
      "            {\n",
      "                \"_index\": \"skillbill\",\n",
      "                \"_id\": \"3rcSAJIB9tihzKslZAy8\",\n",
      "                \"_score\": 2.5999472,\n",
      "                \"_source\": {\n",
      "                    \"name\": \"worker19\",\n",
      "                    \"age\": 27,\n",
      "                    \"project\": \"devops\"\n",
      "                }\n",
      "            }\n",
      "        ]\n",
      "    }\n",
      "}\n"
     ]
    }
   ],
   "source": [
    "import json\n",
    "import requests\n",
    "from requests.auth import HTTPBasicAuth\n",
    "\n",
    "query = {\n",
    "    \"size\": 100,\n",
    "    \"query\": {\n",
    "        \"bool\": {\n",
    "            \"must\": [\n",
    "                {\n",
    "                    \"match\": {\n",
    "                      \"project\": \"devops\"\n",
    "                    }\n",
    "                },\n",
    "                {\n",
    "                    \"bool\": {\n",
    "                        \"should\": [\n",
    "                            {\n",
    "                                \"match\": {\n",
    "                                    \"name\": \"worker4\"\n",
    "                                }\n",
    "                            },\n",
    "                            {\n",
    "                              \"range\": {\n",
    "                                \"age\": {\n",
    "                                  \"gte\": 18,\n",
    "                                  \"lte\": 30\n",
    "                                }\n",
    "                              }\n",
    "                            }\n",
    "                        ]\n",
    "                    }\n",
    "                }\n",
    "            ]\n",
    "        }\n",
    "    }\n",
    "}\n",
    "\n",
    "r = requests.get(\"https://localhost:9200/skillbill/_search\", verify=False, auth=HTTPBasicAuth(\"admin\", \"admin\"),\n",
    "                 data=json.dumps(query),\n",
    "                 headers={\"Content-type\": \"application/json\"}\n",
    "                )\n",
    "\n",
    "print(json.dumps(r.json(), indent=4))"
   ]
  },
  {
   "cell_type": "markdown",
   "id": "6b133867-8319-49ad-91d4-f8cd258e5f84",
   "metadata": {
    "jp-MarkdownHeadingCollapsed": true
   },
   "source": [
    "### Aggregations"
   ]
  },
  {
   "cell_type": "code",
   "execution_count": 67,
   "id": "6a96ec1e-fde0-4a17-8619-8254c905c10e",
   "metadata": {},
   "outputs": [
    {
     "name": "stdout",
     "output_type": "stream",
     "text": [
      "{\n",
      "    \"took\": 38,\n",
      "    \"timed_out\": false,\n",
      "    \"_shards\": {\n",
      "        \"total\": 1,\n",
      "        \"successful\": 1,\n",
      "        \"skipped\": 0,\n",
      "        \"failed\": 0\n",
      "    },\n",
      "    \"hits\": {\n",
      "        \"total\": {\n",
      "            \"value\": 20,\n",
      "            \"relation\": \"eq\"\n",
      "        },\n",
      "        \"max_score\": null,\n",
      "        \"hits\": []\n",
      "    },\n",
      "    \"aggregations\": {\n",
      "        \"avg_age\": {\n",
      "            \"value\": 34.5\n",
      "        }\n",
      "    }\n",
      "}\n"
     ]
    }
   ],
   "source": [
    "import json\n",
    "import requests\n",
    "from requests.auth import HTTPBasicAuth\n",
    "\n",
    "query = {\n",
    "  \"size\": 0,\n",
    "  \"aggs\": {\n",
    "    \"avg_age\": {\n",
    "      \"avg\": {\n",
    "        \"field\": \"age\"\n",
    "      }\n",
    "    }\n",
    "  }\n",
    "}\n",
    "\n",
    "r = requests.get(\"https://localhost:9200/skillbill/_search\", verify=False, auth=HTTPBasicAuth(\"admin\", \"admin\"),\n",
    "                 data=json.dumps(query),\n",
    "                 headers={\"Content-type\": \"application/json\"}\n",
    "                )\n",
    "\n",
    "print(json.dumps(r.json(), indent=4))"
   ]
  },
  {
   "cell_type": "markdown",
   "id": "f181e1ca-942c-4a32-95f4-499d95eeeb42",
   "metadata": {},
   "source": [
    "### Text analysis"
   ]
  },
  {
   "cell_type": "markdown",
   "id": "e8f2562d-adf3-44c0-bf33-d6bf697fefe4",
   "metadata": {},
   "source": [
    "In OpenSearch, the abstraction that encompasses text analysis is referred to as an analyzer. Each analyzer contains the following sequentially applied components:\n",
    "\n",
    "- **Character filters:** First, a character filter receives the original text as a stream of characters and adds, removes, or modifies characters in the text. For example, a character filter can strip HTML characters from a string.\n",
    "\n",
    "- **Tokenizer:** Next, a tokenizer receives the stream of characters that has been processed by the character filter and splits the text into individual tokens (usually, words). For example, win the snippet above we use the **default** analyzer. The output of a tokenizer is a stream of tokens.\n",
    "\n",
    "- **Token filters:** Last, a token filter receives the stream of tokens from the tokenizer and adds, removes, or modifies tokens. For example, a token filter may lowercase the tokens so that Actions becomes action, remove stopwords like than, or add synonyms like talk for the word speak.\n"
   ]
  },
  {
   "cell_type": "code",
   "execution_count": 32,
   "id": "86bbfe16-f537-43a2-849d-366b96675475",
   "metadata": {},
   "outputs": [
    {
     "name": "stdout",
     "output_type": "stream",
     "text": [
      "{\n",
      "    \"tokens\": [\n",
      "        {\n",
      "            \"token\": \"welcome\",\n",
      "            \"start_offset\": 0,\n",
      "            \"end_offset\": 7,\n",
      "            \"type\": \"<ALPHANUM>\",\n",
      "            \"position\": 0\n",
      "        },\n",
      "        {\n",
      "            \"token\": \"to\",\n",
      "            \"start_offset\": 8,\n",
      "            \"end_offset\": 10,\n",
      "            \"type\": \"<ALPHANUM>\",\n",
      "            \"position\": 1\n",
      "        },\n",
      "        {\n",
      "            \"token\": \"my\",\n",
      "            \"start_offset\": 11,\n",
      "            \"end_offset\": 13,\n",
      "            \"type\": \"<ALPHANUM>\",\n",
      "            \"position\": 2\n",
      "        },\n",
      "        {\n",
      "            \"token\": \"demo\",\n",
      "            \"start_offset\": 14,\n",
      "            \"end_offset\": 18,\n",
      "            \"type\": \"<ALPHANUM>\",\n",
      "            \"position\": 3\n",
      "        },\n",
      "        {\n",
      "            \"token\": \"in\",\n",
      "            \"start_offset\": 19,\n",
      "            \"end_offset\": 21,\n",
      "            \"type\": \"<ALPHANUM>\",\n",
      "            \"position\": 4\n",
      "        },\n",
      "        {\n",
      "            \"token\": \"skillbill\",\n",
      "            \"start_offset\": 22,\n",
      "            \"end_offset\": 31,\n",
      "            \"type\": \"<ALPHANUM>\",\n",
      "            \"position\": 5\n",
      "        }\n",
      "    ]\n",
      "}\n"
     ]
    }
   ],
   "source": [
    "import json\n",
    "import requests\n",
    "from requests.auth import HTTPBasicAuth\n",
    "\n",
    "r = requests.get(\"https://localhost:9200/_analyze\", verify=False, auth=HTTPBasicAuth(\"admin\", \"admin\"),\n",
    "                 data=json.dumps({\n",
    "                     \"analyzer\": \"standard\",\n",
    "                     \"text\": \"Welcome to my demo in Skillbill!!!! :)\"\n",
    "                 }),\n",
    "                 headers={\"Content-type\": \"application/json\"}\n",
    "                )\n",
    "\n",
    "print(json.dumps(r.json(), indent=4))"
   ]
  },
  {
   "cell_type": "code",
   "execution_count": 68,
   "id": "3f4090bc-093d-4a08-9e9e-32c98366616c",
   "metadata": {},
   "outputs": [
    {
     "name": "stdout",
     "output_type": "stream",
     "text": [
      "{\n",
      "    \"took\": 8,\n",
      "    \"timed_out\": false,\n",
      "    \"_shards\": {\n",
      "        \"total\": 1,\n",
      "        \"successful\": 1,\n",
      "        \"skipped\": 0,\n",
      "        \"failed\": 0\n",
      "    },\n",
      "    \"hits\": {\n",
      "        \"total\": {\n",
      "            \"value\": 1,\n",
      "            \"relation\": \"eq\"\n",
      "        },\n",
      "        \"max_score\": 2.6390574,\n",
      "        \"hits\": [\n",
      "            {\n",
      "                \"_index\": \"skillbill\",\n",
      "                \"_id\": \"zLcSAJIB9tihzKslYwxw\",\n",
      "                \"_score\": 2.6390574,\n",
      "                \"_source\": {\n",
      "                    \"name\": \"worker1\",\n",
      "                    \"age\": 42,\n",
      "                    \"project\": \"intranet\"\n",
      "                }\n",
      "            }\n",
      "        ]\n",
      "    }\n",
      "}\n"
     ]
    }
   ],
   "source": [
    "import requests \n",
    "\n",
    "query = {\n",
    "  \"query\": {\n",
    "    \"multi_match\": {\n",
    "      \"query\": \"worker1\",\n",
    "      \"fields\": [\"*\"]\n",
    "    }\n",
    "  }\n",
    "}\n",
    "r = requests.get(\"https://localhost:9200/skillbill/_search\", verify=False, auth=HTTPBasicAuth(\"admin\", \"admin\"),\n",
    "                 data=json.dumps(query),\n",
    "                 headers={\"Content-type\": \"application/json\"}\n",
    "                )\n",
    "\n",
    "print(json.dumps(r.json(), indent=4))"
   ]
  },
  {
   "cell_type": "markdown",
   "id": "c252d105-b95f-47e9-b2db-27c723b5c4b6",
   "metadata": {},
   "source": [
    "More information [here](https://opensearch.org/docs/latest/analyzers/)"
   ]
  },
  {
   "cell_type": "markdown",
   "id": "908e079e-fc94-4eec-abcd-4a3d5ccecef7",
   "metadata": {},
   "source": [
    "### Other"
   ]
  },
  {
   "cell_type": "markdown",
   "id": "850c470d-5c3e-48cf-93c2-20d50e205b72",
   "metadata": {},
   "source": [
    "- [Search](https://opensearch.org/docs/latest/search-plugins/)\n",
    "  - k-NN search\n",
    "  - Vector search\n",
    "  - Neural search\n",
    "  - etc\n",
    "- [Machine Learning](https://opensearch.org/docs/latest/ml-commons-plugin/)\n",
    "  - ML integrations\n",
    " "
   ]
  },
  {
   "cell_type": "markdown",
   "id": "4f13b26c-6d7b-4c6b-af80-ee06188f1e8e",
   "metadata": {},
   "source": [
    "## Clients"
   ]
  },
  {
   "cell_type": "markdown",
   "id": "a06edd6c-1214-4881-9923-754b28c2e1ed",
   "metadata": {},
   "source": [
    "OpenSearch provides client for the different programmin languages: \n",
    "- Python: [opensearch-py](https://opensearch.org/docs/latest/clients/python-low-level/)\n",
    "- Java: [opensearch-java](https://opensearch.org/docs/latest/clients/javascript/index)\n",
    "- JavaScript: [opensearch-js](https://opensearch.org/docs/latest/clients/javascript/index)\n",
    "- Go: [opensearch-go](https://opensearch.org/docs/latest/clients/go/)\n",
    "- Ruby: [opensearch-ruby](https://opensearch.org/docs/latest/clients/ruby/)\n",
    "- PHP: [opensearch-php](https://opensearch.org/docs/latest/clients/php/)\n",
    "- Rust: [opensearch-rs](https://opensearch.org/docs/latest/clients/rust/)"
   ]
  },
  {
   "cell_type": "markdown",
   "id": "c97845cf-c6c7-4c87-b9c0-fc15e59a4faf",
   "metadata": {},
   "source": [
    "### Python client"
   ]
  },
  {
   "cell_type": "markdown",
   "id": "abc08b19-f277-4d8c-b34f-9047e20d2a49",
   "metadata": {},
   "source": [
    "In this snippet of code there is an example of opensearch-py usage to estabilish a connection with OpenSearch and create/destroy of an index."
   ]
  },
  {
   "cell_type": "code",
   "execution_count": 69,
   "id": "c7bfc497-2689-4627-b363-32710ec54d30",
   "metadata": {},
   "outputs": [
    {
     "name": "stdout",
     "output_type": "stream",
     "text": [
      "Index creation: python-test-index\n",
      "{\n",
      "    \"acknowledged\": true,\n",
      "    \"shards_acknowledged\": true,\n",
      "    \"index\": \"python-test-index\"\n",
      "}\n",
      "Deleting index: python-test-index\n",
      "{\n",
      "    \"acknowledged\": true\n",
      "}\n"
     ]
    }
   ],
   "source": [
    "from opensearchpy import OpenSearch\n",
    "\n",
    "host = 'localhost'\n",
    "port = 9200\n",
    "auth = ('admin', 'admin') # For testing only. Don't store credentials in code.\n",
    "ca_certs_path = '/full/path/to/root-ca.pem' # Provide a CA bundle if you use intermediate CAs with your root CA.\n",
    "\n",
    "# Create the client with SSL/TLS enabled, but hostname verification disabled.\n",
    "client = OpenSearch(\n",
    "    hosts = [{'host': host, 'port': port}],\n",
    "    http_compress = True, # enables gzip compression for request bodies\n",
    "    http_auth = auth,\n",
    "    use_ssl = True,\n",
    "    verify_certs = False, # not used in this example\n",
    "    ssl_assert_hostname = False,\n",
    "    ssl_show_warn = False,\n",
    "    ca_certs = ca_certs_path # not used in this example\n",
    ")\n",
    "\n",
    "index_name = 'python-test-index'\n",
    "print(f\"Index creation: {index_name}\")\n",
    "response = client.indices.create(index_name, body={\n",
    "    'settings': {\n",
    "        'index': {\n",
    "            'number_of_shards': 4\n",
    "        }\n",
    "    }\n",
    "})\n",
    "print(json.dumps(response, indent=4))\n",
    "\n",
    "print(f\"Deleting index: {index_name}\")\n",
    "response = client.indices.delete(\n",
    "    index = 'python-test-index'\n",
    ")\n",
    "print(json.dumps(response, indent=4))"
   ]
  },
  {
   "cell_type": "markdown",
   "id": "68469a59-f521-45a6-9bde-eebd6159f439",
   "metadata": {},
   "source": [
    "More information about ***opensearch-py***:\n",
    "- [OpenSearch Python repo](https://github.com/opensearch-project/opensearch-py)\n",
    "- [API reference](https://opensearch-project.github.io/opensearch-py/api-ref.html)"
   ]
  }
 ],
 "metadata": {
  "kernelspec": {
   "display_name": "os_demo_venv",
   "language": "python",
   "name": "os_demo_venv"
  },
  "language_info": {
   "codemirror_mode": {
    "name": "ipython",
    "version": 3
   },
   "file_extension": ".py",
   "mimetype": "text/x-python",
   "name": "python",
   "nbconvert_exporter": "python",
   "pygments_lexer": "ipython3",
   "version": "3.10.12"
  }
 },
 "nbformat": 4,
 "nbformat_minor": 5
}
